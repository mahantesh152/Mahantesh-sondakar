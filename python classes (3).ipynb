{
  "nbformat": 4,
  "nbformat_minor": 0,
  "metadata": {
    "colab": {
      "provenance": []
    },
    "kernelspec": {
      "name": "python3",
      "display_name": "Python 3"
    },
    "language_info": {
      "name": "python"
    }
  },
  "cells": [
    {
      "cell_type": "code",
      "execution_count": null,
      "metadata": {
        "id": "NK_dFGK9RqdZ"
      },
      "outputs": [],
      "source": []
    },
    {
      "cell_type": "code",
      "source": [
        "Signal=input(\"Enter the Light\")\n",
        "if   Signal==\"Red \":\n",
        "  print(\"Stop vehicles\")\n",
        "elif Signal==\"Yellow\":\n",
        "  print(\"Ready to go\")\n",
        "elif Signal==\"Green\":\n",
        "  print(\"you can go now\")\n",
        "else:\n",
        "  print(\"Wrong colour\")\n",
        "\n"
      ],
      "metadata": {
        "colab": {
          "base_uri": "https://localhost:8080/"
        },
        "id": "QNj0gV5NG7p9",
        "outputId": "386aadd8-1f80-4c35-d0a5-5efab2425170"
      },
      "execution_count": null,
      "outputs": [
        {
          "output_type": "stream",
          "name": "stdout",
          "text": [
            "Enter the LightYellow\n",
            "Ready to go\n"
          ]
        }
      ]
    },
    {
      "cell_type": "code",
      "source": [
        "a,b,c=25,35,15,\n",
        "if a>b :\n",
        "    if a > c :\n",
        "         print(\"a is largest number\")\n",
        "    else :\n",
        "          print(\"c is largest number\")\n",
        "else :\n",
        "      if b>c :\n",
        "         print(\"b is largest number\")\n",
        "      else :\n",
        "          print(\"c is largest number\")"
      ],
      "metadata": {
        "id": "0mn4itEyJF7c",
        "colab": {
          "base_uri": "https://localhost:8080/"
        },
        "outputId": "d9d830d7-682f-4ee6-96b4-6c9e5f54959e"
      },
      "execution_count": null,
      "outputs": [
        {
          "output_type": "stream",
          "name": "stdout",
          "text": [
            "b is largest number\n"
          ]
        }
      ]
    },
    {
      "cell_type": "code",
      "source": [
        "Num=int(input(\"enter the value\"))\n",
        "if Num>=0 :\n",
        "   if Num==0 :\n",
        "       print(\"zero value\")\n",
        "   else :\n",
        "        print(\"positive number \")\n",
        "else :\n",
        "        print(\"zero value\")\n",
        "\n"
      ],
      "metadata": {
        "colab": {
          "base_uri": "https://localhost:8080/"
        },
        "id": "DOsZsxPS5jPU",
        "outputId": "56a74a83-c8c2-42b4-e457-cd0023894590"
      },
      "execution_count": null,
      "outputs": [
        {
          "output_type": "stream",
          "name": "stdout",
          "text": [
            "enter the value0\n",
            "zero value\n"
          ]
        }
      ]
    },
    {
      "cell_type": "code",
      "source": [
        "a,b,c=100,85,99\n",
        "if a< b :\n",
        "    if a < c :\n",
        "         print(\"a is smallest number\")\n",
        "    else :\n",
        "          print(\"c is smallest number\")\n",
        "else :\n",
        "      if b<c :\n",
        "         print(\"b is smallest number\")\n",
        "      else :\n",
        "          print(\"c is smallest number\")"
      ],
      "metadata": {
        "colab": {
          "base_uri": "https://localhost:8080/"
        },
        "id": "WMDtngR37s-S",
        "outputId": "45bf94ca-eb50-43ad-f5ea-99b34b064c67"
      },
      "execution_count": null,
      "outputs": [
        {
          "output_type": "stream",
          "name": "stdout",
          "text": [
            "b is smallest number\n"
          ]
        }
      ]
    },
    {
      "cell_type": "code",
      "source": [
        "\n",
        "x, y=10,20\n",
        "option=input(\"Enter your choice option:\")\n",
        "match option :\n",
        "            case '+' :\n",
        "                print(\"sum of values\", x+y)\n",
        "            case '-' :\n",
        "                 print (\"substraction of values\",x-y)\n",
        "            case '*' :\n",
        "                print(\"multiplication of values\", x*y)\n",
        "            case '/' :\n",
        "                print(\"division of values\", x/y)\n",
        "            case '%' :\n",
        "                print(\"modulusof values\", x%y)\n",
        "            case   ' _':\n",
        "                print(\"invalid operator\")\n",
        "            case '!=':\n",
        "                print(\"x is not equal to y\", x != y)\n",
        "\n",
        "\n"
      ],
      "metadata": {
        "colab": {
          "base_uri": "https://localhost:8080/"
        },
        "id": "pyFkwlvyAu5e",
        "outputId": "fd44e273-2373-4eb6-b6eb-91318bfa1160"
      },
      "execution_count": null,
      "outputs": [
        {
          "output_type": "stream",
          "name": "stdout",
          "text": [
            "Enter your choice option:/\n",
            "division of values 0.5\n"
          ]
        }
      ]
    },
    {
      "cell_type": "code",
      "source": [
        "day=int(input(\"Enter a day nuumber\"))\n",
        "match day:\n",
        "      case 1 :print(\"monday\")\n",
        "      case 2 :print(\"tuesday\")\n",
        "      case 3:print(\"wednesday\")\n",
        "      case 4 :print(\"thursday\")"
      ],
      "metadata": {
        "colab": {
          "base_uri": "https://localhost:8080/"
        },
        "id": "kHgb-Ryy8KdT",
        "outputId": "de5c9805-7e70-4a0b-e4d1-5a5cd958b5f7"
      },
      "execution_count": null,
      "outputs": [
        {
          "output_type": "stream",
          "name": "stdout",
          "text": [
            "Enter a day nuumber1\n",
            "monday\n"
          ]
        }
      ]
    },
    {
      "cell_type": "code",
      "source": [
        "day=int(input(\"Enter a month  nuumber\"))\n",
        "match day:\n",
        "      case 1 :print(\"january\")\n",
        "      case 2 :print(\"february\")\n",
        "      case 3:print(\"march\")\n",
        "      case 4 :print(\"april\")\n",
        "      case 5 :print(\"may\")\n",
        "      case 6 :print(\"june\")\n",
        "      case 7 :print(\"july\")n\n",
        "      case 8 :print(\"augest\")\n",
        "      case 9 :print(\"september\")\n",
        "      case 10 :print(\"octomber\")\n",
        "      case 11 :print(\"November\")\n",
        "      case 12 :print(\"december\")\n"
      ],
      "metadata": {
        "colab": {
          "base_uri": "https://localhost:8080/"
        },
        "id": "6UvK14zTJfsZ",
        "outputId": "9fb713d9-916a-47d4-a633-859493e2bdb1"
      },
      "execution_count": null,
      "outputs": [
        {
          "output_type": "stream",
          "name": "stdout",
          "text": [
            "Enter a month  nuumber5\n",
            "may\n"
          ]
        }
      ]
    },
    {
      "cell_type": "code",
      "source": [
        "i = 1\n",
        "while i <= 60 :\n",
        "  print(i,end=\" \")\n",
        "  i +=1\n"
      ],
      "metadata": {
        "colab": {
          "base_uri": "https://localhost:8080/"
        },
        "id": "MTEd92WvK_mI",
        "outputId": "a165f595-48fe-42a3-893c-5cfa84b78878"
      },
      "execution_count": null,
      "outputs": [
        {
          "output_type": "stream",
          "name": "stdout",
          "text": [
            "1 2 3 4 5 6 7 8 9 10 11 12 13 14 15 16 17 18 19 20 21 22 23 24 25 26 27 28 29 30 31 32 33 34 35 36 37 38 39 40 41 42 43 44 45 46 47 48 49 50 51 52 53 54 55 56 57 58 59 60 "
          ]
        }
      ]
    },
    {
      "cell_type": "code",
      "source": [
        "i=1\n",
        "add=0\n",
        "while i <= 10 :\n",
        "      add=add+i\n",
        "      i=i+1\n",
        "\n",
        "print(\"sum of n natural number is :\",add)\n"
      ],
      "metadata": {
        "colab": {
          "base_uri": "https://localhost:8080/"
        },
        "id": "P4E5AKk6Od78",
        "outputId": "394dffc3-a6de-4cac-8d9a-e2b691fbe194"
      },
      "execution_count": null,
      "outputs": [
        {
          "output_type": "stream",
          "name": "stdout",
          "text": [
            "sum of n natural number is : 55\n"
          ]
        }
      ]
    },
    {
      "cell_type": "code",
      "source": [
        "num=5\n",
        "i=1\n",
        "while i<=10:\n",
        "  print(\"5*\",i,\"=\",num*i)\n",
        "  i=i+1"
      ],
      "metadata": {
        "colab": {
          "base_uri": "https://localhost:8080/"
        },
        "id": "QQK7hrQMRmeX",
        "outputId": "690b1a86-dd27-43cf-cf9a-5987e31a52ca"
      },
      "execution_count": null,
      "outputs": [
        {
          "output_type": "stream",
          "name": "stdout",
          "text": [
            "5* 1 = 5\n",
            "5* 2 = 10\n",
            "5* 3 = 15\n",
            "5* 4 = 20\n",
            "5* 5 = 25\n",
            "5* 6 = 30\n",
            "5* 7 = 35\n",
            "5* 8 = 40\n",
            "5* 9 = 45\n",
            "5* 10 = 50\n"
          ]
        }
      ]
    },
    {
      "cell_type": "code",
      "source": [
        "num=5\n",
        "i=1\n",
        "while i<=10:\n",
        "  print(\"2500*\",i,\"=\",num*i)\n",
        "  i=i+1"
      ],
      "metadata": {
        "colab": {
          "base_uri": "https://localhost:8080/"
        },
        "id": "zxVBiushUoBW",
        "outputId": "354dddda-2170-49df-c320-4533a04f42ab"
      },
      "execution_count": null,
      "outputs": [
        {
          "output_type": "stream",
          "name": "stdout",
          "text": [
            "2500* 1 = 2500\n",
            "2500* 2 = 5000\n",
            "2500* 3 = 7500\n",
            "2500* 4 = 10000\n",
            "2500* 5 = 12500\n",
            "2500* 6 = 15000\n",
            "2500* 7 = 17500\n",
            "2500* 8 = 20000\n",
            "2500* 9 = 22500\n",
            "2500* 10 = 25000\n"
          ]
        }
      ]
    },
    {
      "cell_type": "code",
      "source": [
        "num=153\n",
        "rem=0\n",
        "sum=0\n",
        "temp=num\n",
        "while num>0 :\n",
        "    rem=num % 10\n",
        "    sum=sum + rem * rem * rem\n",
        "    num=num // 10\n",
        "if temp == sum :\n",
        "    print(\"Armstrong number\")\n",
        "else:\n",
        "    print(\"Not Armstrong number\")"
      ],
      "metadata": {
        "colab": {
          "base_uri": "https://localhost:8080/"
        },
        "id": "sZ_46tX2WMv-",
        "outputId": "052da520-3680-449b-a52d-396643c0b929"
      },
      "execution_count": null,
      "outputs": [
        {
          "output_type": "stream",
          "name": "stdout",
          "text": [
            "Armstrong number\n"
          ]
        }
      ]
    }
  ]
}
