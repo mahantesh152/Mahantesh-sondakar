{
  "nbformat": 4,
  "nbformat_minor": 0,
  "metadata": {
    "colab": {
      "provenance": []
    },
    "kernelspec": {
      "name": "python3",
      "display_name": "Python 3"
    },
    "language_info": {
      "name": "python"
    }
  },
  "cells": [
    {
      "cell_type": "code",
      "source": [
        "a,b,c=\"Hi\",\"mahantesh\",\"good morning\"\n",
        "print(a,b,c)"
      ],
      "metadata": {
        "colab": {
          "base_uri": "https://localhost:8080/"
        },
        "id": "yxpHLFWYOC0H",
        "outputId": "c0b8ccca-ff04-4168-d15a-a457da40781a"
      },
      "execution_count": null,
      "outputs": [
        {
          "output_type": "stream",
          "name": "stdout",
          "text": [
            "Hi mahantesh good morning\n"
          ]
        }
      ]
    },
    {
      "cell_type": "code",
      "execution_count": null,
      "metadata": {
        "colab": {
          "base_uri": "https://localhost:8080/"
        },
        "id": "bkIEscTdNLQO",
        "outputId": "7f0c720c-b51a-4691-d996-4602e6699928"
      },
      "outputs": [
        {
          "output_type": "stream",
          "name": "stdout",
          "text": [
            "good morning 18\n"
          ]
        }
      ],
      "source": [
        "a,b,c=\"good\",\"morning\",18\n",
        "print(a,b,c)"
      ]
    },
    {
      "cell_type": "code",
      "source": [
        "A=B, c=\"collage\",25\n",
        "print(B,c,A)"
      ],
      "metadata": {
        "id": "kpQQj9l-TVA5",
        "outputId": "ec6a275f-6125-418c-be51-6e143685fe89",
        "colab": {
          "base_uri": "https://localhost:8080/"
        }
      },
      "execution_count": null,
      "outputs": [
        {
          "output_type": "stream",
          "name": "stdout",
          "text": [
            "collage 25 ('collage', 25)\n"
          ]
        }
      ]
    },
    {
      "cell_type": "code",
      "source": [
        "A=10\n",
        "B=20\n",
        "print(\"addition of\", A,\"and\" , B, \"is= \",A+B )"
      ],
      "metadata": {
        "id": "CgPSmk1NTod_",
        "outputId": "e535a750-094f-4493-c163-1454837c3088",
        "colab": {
          "base_uri": "https://localhost:8080/"
        }
      },
      "execution_count": null,
      "outputs": [
        {
          "output_type": "stream",
          "name": "stdout",
          "text": [
            "addition of 10 and 20 is=  30\n"
          ]
        }
      ]
    },
    {
      "cell_type": "code",
      "source": [
        "print(2+3)"
      ],
      "metadata": {
        "id": "_WTxVIGzUlJA",
        "outputId": "c5277707-2a42-48b7-c0f7-eba7d162c4de",
        "colab": {
          "base_uri": "https://localhost:8080/"
        }
      },
      "execution_count": null,
      "outputs": [
        {
          "output_type": "stream",
          "name": "stdout",
          "text": [
            "5\n"
          ]
        }
      ]
    },
    {
      "cell_type": "code",
      "source": [
        "value=0\n",
        "print(type(value))"
      ],
      "metadata": {
        "colab": {
          "base_uri": "https://localhost:8080/"
        },
        "id": "-N9e_L8LaLKY",
        "outputId": "7c2875a8-5d0c-4934-f6c9-f1b117d197af"
      },
      "execution_count": null,
      "outputs": [
        {
          "output_type": "stream",
          "name": "stdout",
          "text": [
            "<class 'int'>\n"
          ]
        }
      ]
    },
    {
      "cell_type": "code",
      "source": [
        "value=-9\n",
        "print(type(value))"
      ],
      "metadata": {
        "id": "LSsQV5_AauGQ",
        "outputId": "d5a7c58a-88f0-411b-857f-9c40318728ec",
        "colab": {
          "base_uri": "https://localhost:8080/"
        }
      },
      "execution_count": null,
      "outputs": [
        {
          "output_type": "stream",
          "name": "stdout",
          "text": [
            "<class 'int'>\n"
          ]
        }
      ]
    },
    {
      "cell_type": "code",
      "source": [
        "number=100001\n",
        "print(type(number))"
      ],
      "metadata": {
        "colab": {
          "base_uri": "https://localhost:8080/"
        },
        "id": "OrJ6YeG9bG1x",
        "outputId": "e88254a2-2df5-4155-88f6-580d9bbcacef"
      },
      "execution_count": null,
      "outputs": [
        {
          "output_type": "stream",
          "name": "stdout",
          "text": [
            "<class 'int'>\n"
          ]
        }
      ]
    },
    {
      "cell_type": "code",
      "source": [
        "name=-100.33\n",
        "print(type(name))"
      ],
      "metadata": {
        "id": "4e6ydD4FbWOB",
        "outputId": "201bd6dd-99e6-4e02-da62-5542fdb1d201",
        "colab": {
          "base_uri": "https://localhost:8080/"
        }
      },
      "execution_count": null,
      "outputs": [
        {
          "output_type": "stream",
          "name": "stdout",
          "text": [
            "<class 'float'>\n"
          ]
        }
      ]
    },
    {
      "cell_type": "code",
      "source": [
        "yes=True\n",
        "print(type(yes))"
      ],
      "metadata": {
        "id": "vJPdBvWecV-A",
        "outputId": "7bde78e1-b06e-40d5-ad54-74f476d6716c",
        "colab": {
          "base_uri": "https://localhost:8080/"
        }
      },
      "execution_count": null,
      "outputs": [
        {
          "output_type": "stream",
          "name": "stdout",
          "text": [
            "<class 'bool'>\n"
          ]
        }
      ]
    },
    {
      "cell_type": "code",
      "source": [
        "yes=18\n",
        "print(type(yes))"
      ],
      "metadata": {
        "id": "NTK-k67-dPIo",
        "outputId": "dd0dd21e-5719-4764-e079-ad88e634eb36",
        "colab": {
          "base_uri": "https://localhost:8080/"
        }
      },
      "execution_count": null,
      "outputs": [
        {
          "output_type": "stream",
          "name": "stdout",
          "text": [
            "<class 'int'>\n"
          ]
        }
      ]
    },
    {
      "cell_type": "code",
      "source": [
        "value=27.33\n",
        "print(type(value))"
      ],
      "metadata": {
        "id": "-hS_rh26c_33",
        "outputId": "1c59a4b6-5f91-4e8b-ba01-b13cd3d09738",
        "colab": {
          "base_uri": "https://localhost:8080/"
        }
      },
      "execution_count": null,
      "outputs": [
        {
          "output_type": "stream",
          "name": "stdout",
          "text": [
            "<class 'float'>\n"
          ]
        }
      ]
    },
    {
      "cell_type": "code",
      "source": [
        "section=c\n",
        "print(type(section))"
      ],
      "metadata": {
        "colab": {
          "base_uri": "https://localhost:8080/"
        },
        "id": "k8Z0WS5KeocY",
        "outputId": "0c62427b-bdb3-460b-d336-9b08ba85e605"
      },
      "execution_count": null,
      "outputs": [
        {
          "output_type": "stream",
          "name": "stdout",
          "text": [
            "<class 'int'>\n"
          ]
        }
      ]
    },
    {
      "cell_type": "code",
      "source": [
        "section='''c'''\n",
        "print(type(section))"
      ],
      "metadata": {
        "id": "CEcmxGWqe3-4",
        "outputId": "18b0873e-2787-4502-edf3-d57ea68847b1",
        "colab": {
          "base_uri": "https://localhost:8080/"
        }
      },
      "execution_count": null,
      "outputs": [
        {
          "output_type": "stream",
          "name": "stdout",
          "text": [
            "<class 'str'>\n"
          ]
        }
      ]
    },
    {
      "cell_type": "code",
      "source": [
        "first=\"bkc\"\n",
        "second=\"collage\"\n",
        "print((first+second))"
      ],
      "metadata": {
        "id": "aESbHCjwjVe5",
        "outputId": "b103ac5a-4f99-49fa-83e4-dcd6b71c3fed",
        "colab": {
          "base_uri": "https://localhost:8080/"
        }
      },
      "execution_count": null,
      "outputs": [
        {
          "output_type": "stream",
          "name": "stdout",
          "text": [
            "bkccollage\n"
          ]
        }
      ]
    }
  ]
}