{
  "nbformat": 4,
  "nbformat_minor": 0,
  "metadata": {
    "colab": {
      "provenance": []
    },
    "kernelspec": {
      "name": "python3",
      "display_name": "Python 3"
    },
    "language_info": {
      "name": "python"
    }
  },
  "cells": [
    {
      "cell_type": "code",
      "source": [
        "x=10\n",
        "x-=2\n",
        "print(x)\n",
        "\n",
        "\n",
        "x*=5\n",
        "print(x)\n",
        "\n",
        "\n",
        "\n",
        "\n",
        "x//=3\n",
        "print(x)\n",
        "\n",
        "x**=2\n",
        "print(x)\n",
        "\n",
        "x%=4\n",
        "print(x)\n",
        "\n",
        "x+=9\n",
        "print(x)\n",
        "\n",
        "x/=3\n",
        "print(x)\n",
        "\n"
      ],
      "metadata": {
        "id": "EJP5icUBC-m0",
        "colab": {
          "base_uri": "https://localhost:8080/"
        },
        "outputId": "c0d276a8-7e11-4a96-cfd0-3daf89236165"
      },
      "execution_count": null,
      "outputs": [
        {
          "output_type": "stream",
          "name": "stdout",
          "text": [
            "8\n",
            "40\n",
            "13\n",
            "169\n",
            "1\n",
            "10\n",
            "3.3333333333333335\n"
          ]
        }
      ]
    },
    {
      "cell_type": "code",
      "execution_count": null,
      "metadata": {
        "colab": {
          "base_uri": "https://localhost:8080/"
        },
        "id": "7SUL-44XE2HZ",
        "outputId": "8bf5a672-01a0-4268-b212-864e7c368109"
      },
      "outputs": [
        {
          "output_type": "stream",
          "name": "stdout",
          "text": [
            "hello world\n"
          ]
        }
      ],
      "source": [
        "print(\"hello world\")"
      ]
    },
    {
      "cell_type": "code",
      "source": [
        "print(\"good morning\")"
      ],
      "metadata": {
        "colab": {
          "base_uri": "https://localhost:8080/"
        },
        "id": "YXB_Ukf5FEcD",
        "outputId": "85cbba6f-b3de-4255-d44c-078f6538772b"
      },
      "execution_count": null,
      "outputs": [
        {
          "output_type": "stream",
          "name": "stdout",
          "text": [
            "good morning\n"
          ]
        }
      ]
    },
    {
      "cell_type": "code",
      "source": [
        "print(\"b k collage chikkodi\")"
      ],
      "metadata": {
        "colab": {
          "base_uri": "https://localhost:8080/"
        },
        "id": "faEgNBsiFJmc",
        "outputId": "82b4cb43-dacd-4cf7-fec1-ebbe2714fc74"
      },
      "execution_count": null,
      "outputs": [
        {
          "output_type": "stream",
          "name": "stdout",
          "text": [
            "b k collage chikkodi\n"
          ]
        }
      ]
    },
    {
      "cell_type": "code",
      "source": [
        "print(\"s s m s pu collage athani\")"
      ],
      "metadata": {
        "colab": {
          "base_uri": "https://localhost:8080/"
        },
        "id": "42565ARCFR2b",
        "outputId": "38ac9aad-2075-4db6-cd60-98086523037b"
      },
      "execution_count": null,
      "outputs": [
        {
          "output_type": "stream",
          "name": "stdout",
          "text": [
            "s s m s pu collage athani\n"
          ]
        }
      ]
    },
    {
      "cell_type": "code",
      "source": [
        "print(\"abhishek\")"
      ],
      "metadata": {
        "colab": {
          "base_uri": "https://localhost:8080/"
        },
        "id": "GIwE35WxFijx",
        "outputId": "ccf85c3a-462a-4e5a-e5e0-1d4f98f38a10"
      },
      "execution_count": null,
      "outputs": [
        {
          "output_type": "stream",
          "name": "stdout",
          "text": [
            "abhishek\n"
          ]
        }
      ]
    },
    {
      "cell_type": "code",
      "source": [
        "print(\"5+5\")"
      ],
      "metadata": {
        "colab": {
          "base_uri": "https://localhost:8080/"
        },
        "id": "qGm2rviRFmVa",
        "outputId": "2b3ecfb6-29ed-41fc-c0e8-3091e15f405b"
      },
      "execution_count": null,
      "outputs": [
        {
          "output_type": "stream",
          "name": "stdout",
          "text": [
            "5+5\n"
          ]
        }
      ]
    },
    {
      "cell_type": "code",
      "source": [
        "a=10\n",
        "print(a)"
      ],
      "metadata": {
        "colab": {
          "base_uri": "https://localhost:8080/"
        },
        "id": "mQmzKZqbKAxw",
        "outputId": "44136423-1466-4ff7-adc2-d51a19fafe51"
      },
      "execution_count": null,
      "outputs": [
        {
          "output_type": "stream",
          "name": "stdout",
          "text": [
            "10\n"
          ]
        }
      ]
    },
    {
      "cell_type": "code",
      "source": [],
      "metadata": {
        "id": "0PNnBPN9H0o5"
      },
      "execution_count": null,
      "outputs": []
    },
    {
      "cell_type": "code",
      "source": [
        "a,b,c=\"Hi\",\"mahantesh\",\"good morning\"\n",
        "print(a,b,c)"
      ],
      "metadata": {
        "colab": {
          "base_uri": "https://localhost:8080/"
        },
        "outputId": "be7e432b-a5d7-4ac9-bf8b-e69fdb996f37",
        "id": "5IZnZW7iHTfl"
      },
      "execution_count": null,
      "outputs": [
        {
          "output_type": "stream",
          "name": "stdout",
          "text": [
            "Hi mahantesh good morning\n"
          ]
        }
      ]
    },
    {
      "cell_type": "code",
      "execution_count": null,
      "metadata": {
        "colab": {
          "base_uri": "https://localhost:8080/"
        },
        "outputId": "7a939648-f36a-462c-e978-9e34df88bbd2",
        "id": "DVdBicwkHTgC"
      },
      "outputs": [
        {
          "output_type": "stream",
          "name": "stdout",
          "text": [
            "good morning 18\n"
          ]
        }
      ],
      "source": [
        "a,b,c=\"good\",\"morning\",18\n",
        "print(a,b,c)"
      ]
    },
    {
      "cell_type": "code",
      "source": [
        "A=B, c=\"collage\",25\n",
        "print(B,c,A)"
      ],
      "metadata": {
        "outputId": "69a11c70-ba11-4b27-ad9e-b6d95f5fa939",
        "colab": {
          "base_uri": "https://localhost:8080/"
        },
        "id": "oBlXwAXVHTgC"
      },
      "execution_count": null,
      "outputs": [
        {
          "output_type": "stream",
          "name": "stdout",
          "text": [
            "collage 25 ('collage', 25)\n"
          ]
        }
      ]
    },
    {
      "cell_type": "code",
      "source": [
        "A=10\n",
        "B=20\n",
        "print(\"addition of\", A,\"and\" , B, \"is= \",A+B )"
      ],
      "metadata": {
        "outputId": "c517c7d1-3ed2-4118-cbf8-ad034b24a3bc",
        "colab": {
          "base_uri": "https://localhost:8080/"
        },
        "id": "zlRhJHzPHTgD"
      },
      "execution_count": null,
      "outputs": [
        {
          "output_type": "stream",
          "name": "stdout",
          "text": [
            "addition of 10 and 20 is=  30\n"
          ]
        }
      ]
    },
    {
      "cell_type": "code",
      "source": [
        "print(2+3)"
      ],
      "metadata": {
        "outputId": "e0ce35e5-d7f8-4227-c62c-31e9af0d4c56",
        "colab": {
          "base_uri": "https://localhost:8080/"
        },
        "id": "0qlvExiSHTgD"
      },
      "execution_count": null,
      "outputs": [
        {
          "output_type": "stream",
          "name": "stdout",
          "text": [
            "5\n"
          ]
        }
      ]
    },
    {
      "cell_type": "code",
      "source": [
        "value=0\n",
        "print(type(value))"
      ],
      "metadata": {
        "colab": {
          "base_uri": "https://localhost:8080/"
        },
        "outputId": "36b1aa0d-1c44-45d0-c301-4fbc8c5ad5d7",
        "id": "4JJ1kxi-HTgD"
      },
      "execution_count": null,
      "outputs": [
        {
          "output_type": "stream",
          "name": "stdout",
          "text": [
            "<class 'int'>\n"
          ]
        }
      ]
    },
    {
      "cell_type": "code",
      "source": [
        "value=-9\n",
        "print(type(value))"
      ],
      "metadata": {
        "outputId": "1e2048cb-6dc7-43d3-cbfd-6f08e7d48831",
        "colab": {
          "base_uri": "https://localhost:8080/"
        },
        "id": "MAwuN10hHTgE"
      },
      "execution_count": null,
      "outputs": [
        {
          "output_type": "stream",
          "name": "stdout",
          "text": [
            "<class 'int'>\n"
          ]
        }
      ]
    },
    {
      "cell_type": "code",
      "source": [
        "number=100001\n",
        "print(type(number))"
      ],
      "metadata": {
        "colab": {
          "base_uri": "https://localhost:8080/"
        },
        "outputId": "e76e9435-2800-4b2a-d00f-47f79d966697",
        "id": "dXTc7EcTHTgE"
      },
      "execution_count": null,
      "outputs": [
        {
          "output_type": "stream",
          "name": "stdout",
          "text": [
            "<class 'int'>\n"
          ]
        }
      ]
    },
    {
      "cell_type": "code",
      "source": [
        "name=-100.33\n",
        "print(type(name))"
      ],
      "metadata": {
        "outputId": "b0bc115c-b498-417b-af84-247d11062a74",
        "colab": {
          "base_uri": "https://localhost:8080/"
        },
        "id": "5iwmTjy8HTgE"
      },
      "execution_count": null,
      "outputs": [
        {
          "output_type": "stream",
          "name": "stdout",
          "text": [
            "<class 'float'>\n"
          ]
        }
      ]
    },
    {
      "cell_type": "code",
      "source": [
        "yes=True\n",
        "print(type(yes))"
      ],
      "metadata": {
        "outputId": "f5da266c-a693-4574-c824-472638b2f4ea",
        "colab": {
          "base_uri": "https://localhost:8080/"
        },
        "id": "qHf7uNs5HTgF"
      },
      "execution_count": null,
      "outputs": [
        {
          "output_type": "stream",
          "name": "stdout",
          "text": [
            "<class 'bool'>\n"
          ]
        }
      ]
    },
    {
      "cell_type": "code",
      "source": [
        "yes=18\n",
        "print(type(yes))"
      ],
      "metadata": {
        "outputId": "d549c7ba-5ab0-4dad-d4d7-5b6a7833e006",
        "colab": {
          "base_uri": "https://localhost:8080/"
        },
        "id": "AolyCvWLHTgF"
      },
      "execution_count": null,
      "outputs": [
        {
          "output_type": "stream",
          "name": "stdout",
          "text": [
            "<class 'int'>\n"
          ]
        }
      ]
    },
    {
      "cell_type": "code",
      "source": [
        "value=27.33\n",
        "print(type(value))"
      ],
      "metadata": {
        "outputId": "b172d90c-b278-4473-e24d-e83b2a60dd79",
        "colab": {
          "base_uri": "https://localhost:8080/"
        },
        "id": "uA8UdIqQHTgF"
      },
      "execution_count": null,
      "outputs": [
        {
          "output_type": "stream",
          "name": "stdout",
          "text": [
            "<class 'float'>\n"
          ]
        }
      ]
    },
    {
      "cell_type": "code",
      "source": [
        "section=c\n",
        "print(type(section))"
      ],
      "metadata": {
        "colab": {
          "base_uri": "https://localhost:8080/"
        },
        "outputId": "0804ea29-52ff-4234-d056-d2c70e852a29",
        "id": "XwLPLY_oHTgG"
      },
      "execution_count": null,
      "outputs": [
        {
          "output_type": "stream",
          "name": "stdout",
          "text": [
            "<class 'int'>\n"
          ]
        }
      ]
    },
    {
      "cell_type": "code",
      "source": [
        "section='''c'''\n",
        "print(type(section))"
      ],
      "metadata": {
        "outputId": "bd25c0b5-ca62-4277-fd70-07214a27b422",
        "colab": {
          "base_uri": "https://localhost:8080/"
        },
        "id": "FQmSEJBOHTgG"
      },
      "execution_count": null,
      "outputs": [
        {
          "output_type": "stream",
          "name": "stdout",
          "text": [
            "<class 'str'>\n"
          ]
        }
      ]
    },
    {
      "cell_type": "code",
      "source": [
        "first=\"bkc\"\n",
        "second=\"collage\"\n",
        "print((first+second))"
      ],
      "metadata": {
        "outputId": "25df8c24-aea0-4b05-da26-e1620e994236",
        "colab": {
          "base_uri": "https://localhost:8080/"
        },
        "id": "brjwXTHZHTgH"
      },
      "execution_count": null,
      "outputs": [
        {
          "output_type": "stream",
          "name": "stdout",
          "text": [
            "bkccollage\n"
          ]
        }
      ]
    },
    {
      "cell_type": "code",
      "source": [
        "A=10\n",
        "B=20\n",
        "print(A+B)"
      ],
      "metadata": {
        "colab": {
          "base_uri": "https://localhost:8080/"
        },
        "outputId": "aa63be13-c7c7-4c6e-cf25-9a59b65254a7",
        "id": "cos8kEQKHTgH"
      },
      "execution_count": null,
      "outputs": [
        {
          "output_type": "stream",
          "name": "stdout",
          "text": [
            "30\n"
          ]
        }
      ]
    },
    {
      "cell_type": "code",
      "execution_count": null,
      "metadata": {
        "colab": {
          "base_uri": "https://localhost:8080/"
        },
        "id": "ecTLmBu2LkjL",
        "outputId": "f4526278-22bb-4216-cc10-c1c1e3000a9f"
      },
      "outputs": [
        {
          "output_type": "stream",
          "name": "stdout",
          "text": [
            "hello world)\n"
          ]
        }
      ],
      "source": [
        "print(\"hello world)\")"
      ]
    },
    {
      "cell_type": "code",
      "source": [
        "print(100/3)"
      ],
      "metadata": {
        "colab": {
          "base_uri": "https://localhost:8080/"
        },
        "id": "OuRcI0ggL0uX",
        "outputId": "1f5d3e48-722a-4976-d424-1f26a7aa59d1"
      },
      "execution_count": null,
      "outputs": [
        {
          "output_type": "stream",
          "name": "stdout",
          "text": [
            "33.333333333333336\n"
          ]
        }
      ]
    },
    {
      "cell_type": "code",
      "source": [
        "print(\"phyton   programming langauage\\n \" *10)"
      ],
      "metadata": {
        "colab": {
          "base_uri": "https://localhost:8080/"
        },
        "id": "blhT9HTNLr4n",
        "outputId": "627b692f-bcb8-4486-96a5-0c63aafc5224"
      },
      "execution_count": null,
      "outputs": [
        {
          "output_type": "stream",
          "name": "stdout",
          "text": [
            "phyton   programming langauage\n",
            " phyton   programming langauage\n",
            " phyton   programming langauage\n",
            " phyton   programming langauage\n",
            " phyton   programming langauage\n",
            " phyton   programming langauage\n",
            " phyton   programming langauage\n",
            " phyton   programming langauage\n",
            " phyton   programming langauage\n",
            " phyton   programming langauage\n",
            " \n"
          ]
        }
      ]
    },
    {
      "cell_type": "code",
      "source": [
        " print(\"Hello\"+\"world\")"
      ],
      "metadata": {
        "colab": {
          "base_uri": "https://localhost:8080/"
        },
        "id": "WaiL3UPANo2X",
        "outputId": "984c2e26-bdab-4c06-94f9-55ae2291a5c8"
      },
      "execution_count": null,
      "outputs": [
        {
          "output_type": "stream",
          "name": "stdout",
          "text": [
            "Helloworld\n"
          ]
        }
      ]
    },
    {
      "cell_type": "code",
      "source": [
        "print(\"good morning\\n \" *10)"
      ],
      "metadata": {
        "colab": {
          "base_uri": "https://localhost:8080/"
        },
        "id": "PPFBXmgDPTfV",
        "outputId": "c51410f1-1fc8-41f0-f141-a1c813ff2ec8"
      },
      "execution_count": null,
      "outputs": [
        {
          "output_type": "stream",
          "name": "stdout",
          "text": [
            "good morning\n",
            " good morning\n",
            " good morning\n",
            " good morning\n",
            " good morning\n",
            " good morning\n",
            " good morning\n",
            " good morning\n",
            " good morning\n",
            " good morning\n",
            " \n"
          ]
        }
      ]
    },
    {
      "cell_type": "code",
      "source": [
        "name=\"mahantesh\"\n",
        "print(name)"
      ],
      "metadata": {
        "colab": {
          "base_uri": "https://localhost:8080/"
        },
        "id": "SqKKvO4kQlak",
        "outputId": "db6a5e15-ac42-4834-efe3-cb3633b32313"
      },
      "execution_count": null,
      "outputs": [
        {
          "output_type": "stream",
          "name": "stdout",
          "text": [
            "mahantesh\n"
          ]
        }
      ]
    },
    {
      "cell_type": "code",
      "source": [
        "\n",
        "print(\"kannada    30\")\n",
        "print(\"ic         25\")\n",
        "print(\"account    25\")\n",
        "print(\"dbms       24\")\n",
        "print(\"cprogram   20\")\n",
        "print(\"english     23\")"
      ],
      "metadata": {
        "colab": {
          "base_uri": "https://localhost:8080/"
        },
        "id": "vUxWq7xqQ3hk",
        "outputId": "5e1fb179-561c-4bb5-84a4-2c1e042c121d"
      },
      "execution_count": null,
      "outputs": [
        {
          "output_type": "stream",
          "name": "stdout",
          "text": [
            "kannada    30\n",
            "ic         25\n",
            "account    25\n",
            "dbms       24\n",
            "cprogram   20\n",
            "english     23\n"
          ]
        }
      ]
    },
    {
      "cell_type": "code",
      "source": [
        "Age=25\n",
        "age=32\n",
        "print(age,Age)"
      ],
      "metadata": {
        "colab": {
          "base_uri": "https://localhost:8080/"
        },
        "id": "1sLtrMJcYaOh",
        "outputId": "adae8c17-3a8d-4648-fecc-8971312aa0a6"
      },
      "execution_count": null,
      "outputs": [
        {
          "output_type": "stream",
          "name": "stdout",
          "text": [
            "32 25\n"
          ]
        }
      ]
    },
    {
      "cell_type": "code",
      "source": [
        "yes=True\n",
        "print(yes)"
      ],
      "metadata": {
        "colab": {
          "base_uri": "https://localhost:8080/"
        },
        "id": "CkT8ilaiZVWo",
        "outputId": "b47f9ddf-14fc-4834-864e-081329d3db99"
      },
      "execution_count": null,
      "outputs": [
        {
          "output_type": "stream",
          "name": "stdout",
          "text": [
            "True\n"
          ]
        }
      ]
    },
    {
      "cell_type": "code",
      "source": [
        "NA_12_Me=\"chikkodi\"\n",
        "print(NA_12_Me)"
      ],
      "metadata": {
        "colab": {
          "base_uri": "https://localhost:8080/"
        },
        "id": "QCtoO_BcaFaI",
        "outputId": "64cdab70-e685-4cb0-ead7-56e5083bce2e"
      },
      "execution_count": null,
      "outputs": [
        {
          "output_type": "stream",
          "name": "stdout",
          "text": [
            "chikkodi\n"
          ]
        }
      ]
    },
    {
      "cell_type": "code",
      "source": [
        "name=\"mahantesh\"\n",
        "per=76\n",
        "print(name,per)"
      ],
      "metadata": {
        "colab": {
          "base_uri": "https://localhost:8080/"
        },
        "id": "9pRmU6glarxZ",
        "outputId": "1927ff03-8c11-4771-e27e-2bbc982d8a81"
      },
      "execution_count": null,
      "outputs": [
        {
          "output_type": "stream",
          "name": "stdout",
          "text": [
            "mahantesh 76\n"
          ]
        }
      ]
    },
    {
      "cell_type": "code",
      "source": [
        "name=\"Mahantesh \"\n",
        "age=19\n",
        "print(name,age)"
      ],
      "metadata": {
        "colab": {
          "base_uri": "https://localhost:8080/"
        },
        "id": "-PZ-EZT-bUdY",
        "outputId": "19866bc3-93b7-4a55-cd07-b0d3df1ba489"
      },
      "execution_count": null,
      "outputs": [
        {
          "output_type": "stream",
          "name": "stdout",
          "text": [
            "Mahantesh  19\n"
          ]
        }
      ]
    },
    {
      "cell_type": "code",
      "source": [
        "collage=\"bkc collage\"\n",
        "Name=\"anand\"\n",
        "print(\"my name is\",\"i'm studying\", collage)"
      ],
      "metadata": {
        "colab": {
          "base_uri": "https://localhost:8080/"
        },
        "id": "CVNWkkeEb2Gq",
        "outputId": "eba16ae5-ca5e-4290-a360-ed5df6b366d8"
      },
      "execution_count": null,
      "outputs": [
        {
          "output_type": "stream",
          "name": "stdout",
          "text": [
            "my name is i'm studying bkc collage\n"
          ]
        }
      ]
    },
    {
      "cell_type": "code",
      "source": [],
      "metadata": {
        "id": "Lk59e-9VelZ9"
      },
      "execution_count": null,
      "outputs": []
    },
    {
      "cell_type": "code",
      "source": [
        "text=\"mahantesh\"\n",
        "address=\"I'm from chikkodi\"\n",
        "print(\"hello\",text,\"how are you i am fine where are you from\",address)"
      ],
      "metadata": {
        "colab": {
          "base_uri": "https://localhost:8080/"
        },
        "id": "rKmuqCv5izWM",
        "outputId": "6ed13bf1-5eac-4c3f-847a-2686a5453aab"
      },
      "execution_count": null,
      "outputs": [
        {
          "output_type": "stream",
          "name": "stdout",
          "text": [
            "hello mahantesh how are you i am fine where are you from I'm from chikkodi\n"
          ]
        }
      ]
    },
    {
      "cell_type": "code",
      "source": [
        "print(\"good morning\")"
      ],
      "metadata": {
        "colab": {
          "base_uri": "https://localhost:8080/"
        },
        "id": "3j3-dCyIM7rg",
        "outputId": "4db503e7-4290-4537-aa70-c7f3877930e3"
      },
      "execution_count": null,
      "outputs": [
        {
          "output_type": "stream",
          "name": "stdout",
          "text": [
            "good morning\n"
          ]
        }
      ]
    },
    {
      "cell_type": "code",
      "source": [
        "first=\"BKC\"\n",
        "second=\"collage\"\n",
        "print( ( ( first +\"  \" +second)+\"\\n\")*5)"
      ],
      "metadata": {
        "colab": {
          "base_uri": "https://localhost:8080/"
        },
        "id": "PMLH2JWMnKU5",
        "outputId": "97d5fc16-d846-4b80-bada-5850773fe8d2"
      },
      "execution_count": null,
      "outputs": [
        {
          "output_type": "stream",
          "name": "stdout",
          "text": [
            "BKC  collage\n",
            "BKC  collage\n",
            "BKC  collage\n",
            "BKC  collage\n",
            "BKC  collage\n",
            "\n"
          ]
        }
      ]
    },
    {
      "cell_type": "code",
      "source": [
        "name=\"python programming Languages\"\n",
        "print(name[5])\n",
        "print(name[-2])\n",
        "print(name[3:14])\n",
        "print(name[:20])\n",
        "print(name[6:])\n",
        "print(name[:-1])\n",
        "print(name[-22:-4])\n",
        "print(name[::1])\n",
        "print(name[::-1])\n",
        "print(name[::-3])\n",
        "\n"
      ],
      "metadata": {
        "id": "FZyXa_tYrpTf",
        "colab": {
          "base_uri": "https://localhost:8080/"
        },
        "outputId": "a94585f2-2427-4e69-c6d3-84653b58753d"
      },
      "execution_count": null,
      "outputs": [
        {
          "output_type": "stream",
          "name": "stdout",
          "text": [
            "n\n",
            "e\n",
            "hon program\n",
            "python programming L\n",
            " programming Languages\n",
            "python programming Language\n",
            " programming Langu\n",
            "python programming Languages\n",
            "segaugnaL gnimmargorp nohtyp\n",
            "san iao hp\n"
          ]
        }
      ]
    },
    {
      "cell_type": "code",
      "source": [
        "\n",
        "print(type(list1))\n",
        "print(list1)\n",
        "list1.append(\"mahantesh\")\n",
        "print.(list1"
      ],
      "metadata": {
        "id": "6ioostA0x-hh",
        "colab": {
          "base_uri": "https://localhost:8080/",
          "height": 106
        },
        "outputId": "716b8c86-1a56-45a6-b733-8f9686cafaaa"
      },
      "execution_count": null,
      "outputs": [
        {
          "output_type": "error",
          "ename": "SyntaxError",
          "evalue": "invalid syntax (ipython-input-3249972861.py, line 4)",
          "traceback": [
            "\u001b[0;36m  File \u001b[0;32m\"/tmp/ipython-input-3249972861.py\"\u001b[0;36m, line \u001b[0;32m4\u001b[0m\n\u001b[0;31m    print.(list1) list1=[101]#101\u001b[0m\n\u001b[0m          ^\u001b[0m\n\u001b[0;31mSyntaxError\u001b[0m\u001b[0;31m:\u001b[0m invalid syntax\n"
          ]
        }
      ]
    },
    {
      "cell_type": "code",
      "source": [
        "details=[101]\n",
        "print(type[details])\n",
        "details.append(85.12)\n",
        "print(details)\n",
        "details.append(\"mahantesh\")\n",
        "print(details)\n",
        "details.append(-99)\n",
        "print(details)\n",
        "details.append( \"bkc collage\")\n",
        "print(details)\n",
        "details.append(99)\n",
        "print(details)\n",
        "details[3]=99\n",
        "print(details)\n",
        "print(details[2:4])\n",
        "details.insert(2,False)\n",
        "print(details)\n",
        "details.remove(False)\n",
        "print(details)\n",
        "print(details[4])\n",
        "print(details)\n",
        "print(details[::-1])\n",
        "print(details.count(101))\n",
        "print(details.clear())\n",
        "print(details)\n",
        "print(type(details))"
      ],
      "metadata": {
        "id": "_dsJFZRC9eAK"
      },
      "execution_count": null,
      "outputs": []
    },
    {
      "cell_type": "code",
      "source": [
        "information=[105]\n",
        "print(information)\n",
        "print( type(information))\n",
        "information.append(25.12)\n",
        "print(information)\n",
        "information.append(\"mahantesh\")\n",
        "print(information)\n",
        "information.append(-99)\n",
        "print(information)\n",
        "information.append(\"bkc collage\")\n",
        "print(information)\n",
        "information.append(99)\n",
        "print(information)\n",
        "information[3]=99\n",
        "print(information)\n",
        "print(information[2:4])\n",
        "information.insert(2,False)\n",
        "print(information)\n",
        "information.remove(False)\n",
        "print(information)\n",
        "print(information[4])\n",
        "print(information)\n",
        "print(information[::-1])\n",
        "print(information.count(105))\n",
        "print(information.clear())\n",
        "print(information)\n",
        "print(type(information))"
      ],
      "metadata": {
        "colab": {
          "base_uri": "https://localhost:8080/"
        },
        "id": "HNa0VMuVgaGL",
        "outputId": "4e18c9d5-19cd-4cb9-9882-e7a3751016a2"
      },
      "execution_count": null,
      "outputs": [
        {
          "output_type": "stream",
          "name": "stdout",
          "text": [
            "[105]\n",
            "<class 'list'>\n",
            "[105, 25.12]\n",
            "[105, 25.12, 'mahantesh']\n",
            "[105, 25.12, 'mahantesh', -99]\n",
            "[105, 25.12, 'mahantesh', -99, 'bkc collage']\n",
            "[105, 25.12, 'mahantesh', -99, 'bkc collage', 99]\n",
            "[105, 25.12, 'mahantesh', 99, 'bkc collage', 99]\n",
            "['mahantesh', 99]\n",
            "[105, 25.12, False, 'mahantesh', 99, 'bkc collage', 99]\n",
            "[105, 25.12, 'mahantesh', 99, 'bkc collage', 99]\n",
            "bkc collage\n",
            "[105, 25.12, 'mahantesh', 99, 'bkc collage', 99]\n",
            "[99, 'bkc collage', 99, 'mahantesh', 25.12, 105]\n",
            "1\n",
            "None\n",
            "[]\n",
            "<class 'list'>\n"
          ]
        }
      ]
    },
    {
      "cell_type": "code",
      "source": [
        "# adress=2010\n",
        "print(3+3)"
      ],
      "metadata": {
        "colab": {
          "base_uri": "https://localhost:8080/"
        },
        "id": "4KZIlaW4h85D",
        "outputId": "e946f348-7e3d-4f26-8616-c8eee152be05"
      },
      "execution_count": null,
      "outputs": [
        {
          "output_type": "stream",
          "name": "stdout",
          "text": [
            "6\n"
          ]
        }
      ]
    },
    {
      "cell_type": "code",
      "source": [
        "example=(1,\"sharath\",3.12,False,1)\n",
        "print(example)\n",
        "print(len(example))\n",
        "print(type(example))\n",
        "print(example.count(1))\n",
        "print(example[0:3])\n",
        "print(example[4])\n",
        "print(example[-1])\n",
        "print(example[::-1])\n"
      ],
      "metadata": {
        "colab": {
          "base_uri": "https://localhost:8080/"
        },
        "id": "3kig_tWiiXlr",
        "outputId": "aa48f5d0-8f19-49b6-d97a-bf68fa70af63"
      },
      "execution_count": null,
      "outputs": [
        {
          "output_type": "stream",
          "name": "stdout",
          "text": [
            "(1, 'sharath', 3.12, False, 1)\n",
            "5\n",
            "<class 'tuple'>\n",
            "2\n",
            "(1, 'sharath', 3.12)\n",
            "1\n",
            "1\n",
            "(1, False, 3.12, 'sharath', 1)\n"
          ]
        }
      ]
    },
    {
      "cell_type": "code",
      "source": [
        "number=(2,4,7,9,3,9,3,2)\n",
        "print(number)\n",
        "Add=(2,4,5,7)\n",
        "print(number+Add)\n",
        "print((Add)*4)\n",
        "print((Add))\n"
      ],
      "metadata": {
        "colab": {
          "base_uri": "https://localhost:8080/"
        },
        "id": "qjYQ9kqWoAtL",
        "outputId": "3f82a745-b07b-4bfe-9646-0b5561209e42"
      },
      "execution_count": null,
      "outputs": [
        {
          "output_type": "stream",
          "name": "stdout",
          "text": [
            "(2, 4, 7, 9, 3, 9, 3, 2)\n",
            "(2, 4, 7, 9, 3, 9, 3, 2, 2, 4, 5, 7)\n",
            "(2, 4, 5, 7, 2, 4, 5, 7, 2, 4, 5, 7, 2, 4, 5, 7)\n",
            "(2, 4, 5, 7)\n"
          ]
        }
      ]
    },
    {
      "cell_type": "code",
      "source": [
        "ex={1,1,2,3,3,4,5,5}\n",
        "print(ex)\n",
        "print(type(ex))\n",
        "print(len(ex))\n",
        "ex.add(10)\n",
        "print(ex)\n",
        "ex.add(\"bkc\")\n",
        "\n"
      ],
      "metadata": {
        "colab": {
          "base_uri": "https://localhost:8080/"
        },
        "id": "QhfbPYLaq6-j",
        "outputId": "5cb1668a-76fe-4a04-def1-5b33fba99b2c"
      },
      "execution_count": null,
      "outputs": [
        {
          "output_type": "stream",
          "name": "stdout",
          "text": [
            "{1, 2, 3, 4, 5}\n",
            "<class 'set'>\n",
            "5\n",
            "{1, 2, 3, 4, 5, 10}\n"
          ]
        }
      ]
    },
    {
      "cell_type": "code",
      "source": [
        "Ex={1,2,3,4,5,6,7}\n",
        "print(Ex)\n",
        "print(type(Ex))\n",
        "print(len(Ex))\n",
        "Ex.add(\"bkc\")\n",
        "print(Ex)\n",
        "Ex.add(5.67)\n",
        "print(Ex)\n",
        "Ex.add(\"true\")\n",
        "print(Ex)\n",
        "Ex.remove(4)\n",
        "print(Ex)\n",
        "print(Ex.pop())\n",
        "print(Ex)\n"
      ],
      "metadata": {
        "id": "qJPKvnE1tApa",
        "colab": {
          "base_uri": "https://localhost:8080/"
        },
        "outputId": "abb17a1f-1f63-4e3d-ce40-0f491e3d738f"
      },
      "execution_count": null,
      "outputs": [
        {
          "output_type": "stream",
          "name": "stdout",
          "text": [
            "{1, 2, 3, 4, 5, 6, 7}\n",
            "<class 'set'>\n",
            "7\n",
            "{1, 2, 3, 4, 5, 6, 7, 'bkc'}\n",
            "{1, 2, 3, 4, 5, 6, 7, 5.67, 'bkc'}\n",
            "{1, 2, 3, 4, 5, 6, 7, 5.67, 'true', 'bkc'}\n",
            "{1, 2, 3, 5, 6, 7, 5.67, 'true', 'bkc'}\n",
            "1\n",
            "{2, 3, 5, 6, 7, 5.67, 'true', 'bkc'}\n"
          ]
        }
      ]
    },
    {
      "cell_type": "code",
      "source": [
        "first={1,2,3,4,4,2}\n",
        "second={3,4,5,6}\n",
        "print(first | second)\n",
        "print(first.union(second))"
      ],
      "metadata": {
        "id": "dzXC4hvsyxN4",
        "colab": {
          "base_uri": "https://localhost:8080/"
        },
        "outputId": "754ffafd-f1cb-4961-930e-ddba099ca371"
      },
      "execution_count": null,
      "outputs": [
        {
          "output_type": "stream",
          "name": "stdout",
          "text": [
            "{1, 2, 3, 4, 5, 6}\n",
            "{1, 2, 3, 4, 5, 6}\n"
          ]
        }
      ]
    },
    {
      "cell_type": "code",
      "source": [
        "print(first & second)\n",
        "print(first.intersection(second))\n",
        "print(first.difference(second))\n",
        "\n",
        "print(second-first)\n",
        "print(second.difference(first))"
      ],
      "metadata": {
        "id": "QuMK4cgjy0pJ",
        "colab": {
          "base_uri": "https://localhost:8080/"
        },
        "outputId": "40e693cd-48bf-4295-86bb-96772354cbef"
      },
      "execution_count": null,
      "outputs": [
        {
          "output_type": "stream",
          "name": "stdout",
          "text": [
            "{3, 4}\n",
            "{3, 4}\n",
            "{1, 2}\n",
            "{5, 6}\n",
            "{5, 6}\n"
          ]
        }
      ]
    },
    {
      "cell_type": "code",
      "source": [
        "Dict={\"Roll_number\" : 201,\n",
        "     \"Name\"         :\"mahantesh\",\n",
        "     \"Adress\"       :\"Athani\",\n",
        "      \"CGPA\"        :7.63,\n",
        "      \"Course\"      :\"BCA\",\n",
        "      \"Year\"        :2025,\n",
        "\n",
        "}\n",
        "print(Dict)\n",
        "Dict[\"Gender\"]=\"Male\"\n",
        "print(Dict)\n",
        "Dict[\"Mobile_No\"]: 9886449784\n",
        "print(Dict)\n",
        "Dict[\"collage\"]=\" s s m s collage athani\"\n",
        "print(Dict.keys())\n",
        "print(Dict.values())\n",
        "print(Dict.items())\n",
        "print(Dict.clear())"
      ],
      "metadata": {
        "id": "IPRd-zYL-Tnx",
        "colab": {
          "base_uri": "https://localhost:8080/"
        },
        "outputId": "81317dbd-bf7a-4440-94eb-f5b3a38c33ce"
      },
      "execution_count": null,
      "outputs": [
        {
          "output_type": "stream",
          "name": "stdout",
          "text": [
            "{'Roll_number': 201, 'Name': 'mahantesh', 'Adress': 'Athani', 'CGPA': 7.63, 'Course': 'BCA', 'Year': 2025}\n",
            "{'Roll_number': 201, 'Name': 'mahantesh', 'Adress': 'Athani', 'CGPA': 7.63, 'Course': 'BCA', 'Year': 2025, 'Gender': 'Male'}\n",
            "{'Roll_number': 201, 'Name': 'mahantesh', 'Adress': 'Athani', 'CGPA': 7.63, 'Course': 'BCA', 'Year': 2025, 'Gender': 'Male'}\n",
            "dict_keys(['Roll_number', 'Name', 'Adress', 'CGPA', 'Course', 'Year', 'Gender', 'collage'])\n",
            "dict_values([201, 'mahantesh', 'Athani', 7.63, 'BCA', 2025, 'Male', ' s s m s collage athani'])\n",
            "dict_items([('Roll_number', 201), ('Name', 'mahantesh'), ('Adress', 'Athani'), ('CGPA', 7.63), ('Course', 'BCA'), ('Year', 2025), ('Gender', 'Male'), ('collage', ' s s m s collage athani')])\n",
            "None\n"
          ]
        }
      ]
    },
    {
      "cell_type": "code",
      "source": [
        "Employe={\"Employe_id=1001\"\n",
        "     \"Employe_Name\"         :\"Mahantesh Sondakar\",\n",
        "     \"Employe_Adress\"       :\"Athani\",\n",
        "     \"Employe_salary\"      :200000000,\n",
        "     \"Employe_Company\"     :\"Apple\",\n",
        "     \"Employe_Experience\"  :\" 3 Years\",\n",
        "     \"Employe_No\"          :9535180854,\n",
        "     \"Employe email_id\"    :\"MahanteshSondakar@gmail.com\"\n",
        "\n",
        "}\n",
        "print(Employe)\n",
        "print(type(Employe))\n",
        "print(len(Employe))\n",
        "Employe[\"Gender\"]=\"Male\"\n",
        "print(Employe)\n",
        "print(len(Employe))\n",
        "print(Employe.keys())\n",
        "print(Employe.values())\n",
        "print(Employe.items())\n",
        "print(Employe.clear())"
      ],
      "metadata": {
        "colab": {
          "base_uri": "https://localhost:8080/"
        },
        "id": "CwaA7ClWNRSK",
        "outputId": "ce64c52d-c99c-4337-ae86-ff4178473be2"
      },
      "execution_count": null,
      "outputs": [
        {
          "output_type": "stream",
          "name": "stdout",
          "text": [
            "{'Employe_id=1001Employe_Name': 'Mahantesh Sondakar', 'Employe_Adress': 'Athani', 'Employe_salary': 200000000, 'Employe_Company': 'Apple', 'Employe_Experience': ' 3 Years', 'Employe_No': 9535180854, 'Employe email_id': 'MahanteshSondakar@gmail.com'}\n",
            "<class 'dict'>\n",
            "7\n",
            "{'Employe_id=1001Employe_Name': 'Mahantesh Sondakar', 'Employe_Adress': 'Athani', 'Employe_salary': 200000000, 'Employe_Company': 'Apple', 'Employe_Experience': ' 3 Years', 'Employe_No': 9535180854, 'Employe email_id': 'MahanteshSondakar@gmail.com', 'Gender': 'Male'}\n",
            "8\n",
            "dict_keys(['Employe_id=1001Employe_Name', 'Employe_Adress', 'Employe_salary', 'Employe_Company', 'Employe_Experience', 'Employe_No', 'Employe email_id', 'Gender'])\n",
            "dict_values(['Mahantesh Sondakar', 'Athani', 200000000, 'Apple', ' 3 Years', 9535180854, 'MahanteshSondakar@gmail.com', 'Male'])\n",
            "dict_items([('Employe_id=1001Employe_Name', 'Mahantesh Sondakar'), ('Employe_Adress', 'Athani'), ('Employe_salary', 200000000), ('Employe_Company', 'Apple'), ('Employe_Experience', ' 3 Years'), ('Employe_No', 9535180854), ('Employe email_id', 'MahanteshSondakar@gmail.com'), ('Gender', 'Male')])\n",
            "None\n"
          ]
        }
      ]
    },
    {
      "cell_type": "code",
      "source": [
        "Name={\"Name\" :\"abhishek\",\n",
        " \"name\" :\"abhishek\",\n",
        "   \"F_name\":\"abhishek\",\n",
        "    \"l_name\":\"abhishek\",\n",
        "}\n",
        "print(name)"
      ],
      "metadata": {
        "colab": {
          "base_uri": "https://localhost:8080/"
        },
        "id": "cEmHmmtOOGLA",
        "outputId": "7e0d39ba-6591-4fc8-93f4-89fbf524aee8"
      },
      "execution_count": null,
      "outputs": [
        {
          "output_type": "stream",
          "name": "stdout",
          "text": [
            "python programming Languages\n"
          ]
        }
      ]
    },
    {
      "cell_type": "code",
      "source": [
        "name=\"mahantesh\"\n",
        "course=\"bca\"\n",
        "year=2025\n",
        "collage=\"KLE bk collage CHIKKODI\"\n",
        "pincode=584128,\"ABHISHEK\"\n",
        "print(f'My name is {name},i have completed puc in the year of{year},curently studying in {collage},{pincode}, {course}')"
      ],
      "metadata": {
        "colab": {
          "base_uri": "https://localhost:8080/"
        },
        "id": "LIl-eulMAZu0",
        "outputId": "bcc7a816-6044-40e1-c039-07b8d9594a8b"
      },
      "execution_count": null,
      "outputs": [
        {
          "output_type": "stream",
          "name": "stdout",
          "text": [
            "My name is mahantesh,i have completed puc in the year of2025,curently studying in KLE bk collage CHIKKODI,(584128, 'ABHISHEK'), bca\n"
          ]
        }
      ]
    },
    {
      "cell_type": "code",
      "source": [
        "print(\"HELLO WORLD\")"
      ],
      "metadata": {
        "colab": {
          "base_uri": "https://localhost:8080/"
        },
        "id": "Xh8YLLTHA9Oa",
        "outputId": "d70949ab-9b44-4368-8036-a6571f057c19"
      },
      "execution_count": null,
      "outputs": [
        {
          "output_type": "stream",
          "name": "stdout",
          "text": [
            "HELLO WORLD\n"
          ]
        }
      ]
    },
    {
      "cell_type": "code",
      "source": [
        "d=int(input(\"value of d is\"))\n",
        "S=int(input(\"value of S is\"))\n",
        "\n",
        "print(\"the value of d and s\", d +2 )\n",
        "\n",
        "print(\"the value of d and s\", d -2 )\n",
        "\n",
        "print(\"the value of d and s\", d *2 )\n",
        "\n",
        "print(\"the value of d and s\", d /2 )\n",
        "\n",
        "print(\"the value of d and s\", d //2 )\n",
        "\n",
        "print(\"the value of d and s\", d   %2 )"
      ],
      "metadata": {
        "colab": {
          "base_uri": "https://localhost:8080/"
        },
        "id": "jMczT-EPDS3q",
        "outputId": "26632129-bdb5-4dbc-8d1a-ad2779113b0a"
      },
      "execution_count": null,
      "outputs": [
        {
          "output_type": "stream",
          "name": "stdout",
          "text": [
            "value of d is10\n",
            "value of S is2\n",
            "the value of d and s 12\n",
            "the value of d and s 8\n",
            "the value of d and s 20\n",
            "the value of d and s 5.0\n",
            "the value of d and s 5\n",
            "the value of d and s 0\n"
          ]
        }
      ]
    },
    {
      "cell_type": "code",
      "source": [
        "\n",
        "\n",
        "number1=35\n",
        "number2=40\n",
        "print(number1 > number2)\n",
        "print(number2 < number1)\n",
        "print(number1 == 35)\n",
        "print(number1 <= number2)\n",
        "print(number2 != 40)\n",
        "print( 10!= 20)\n",
        "print(number2>= 40)\n",
        "print(number1 !=number2)"
      ],
      "metadata": {
        "colab": {
          "base_uri": "https://localhost:8080/"
        },
        "id": "-rWNhS8LEBMl",
        "outputId": "b05f600f-828a-49d7-f9e1-e94655d2d0aa"
      },
      "execution_count": null,
      "outputs": [
        {
          "output_type": "stream",
          "name": "stdout",
          "text": [
            "False\n",
            "False\n",
            "True\n",
            "True\n",
            "False\n",
            "True\n",
            "True\n",
            "True\n"
          ]
        }
      ]
    },
    {
      "cell_type": "code",
      "source": [
        "a=20\n",
        "b=35\n",
        "c=13\n",
        "d=10\n",
        "print(a==b and c<d)\n",
        "print(13!=c and d<c)\n",
        "print(b>a and d<c)\n",
        "print(20 !=a and c==b)\n",
        "print(a<b or d==c)\n",
        "print((not(a<b))and 100<200)\n",
        "print(not(d==10))\n",
        "print(35!=d or (not(20==a)))\n",
        "print(not(c <= b and (not(a <=c))))\n"
      ],
      "metadata": {
        "colab": {
          "base_uri": "https://localhost:8080/"
        },
        "id": "aj4Wc8uAQ_A2",
        "outputId": "3cdb72ab-dd6f-4244-cb29-6c32c30e4e6d"
      },
      "execution_count": null,
      "outputs": [
        {
          "output_type": "stream",
          "name": "stdout",
          "text": [
            "False\n",
            "False\n",
            "True\n",
            "False\n",
            "True\n",
            "False\n",
            "False\n",
            "True\n",
            "False\n"
          ]
        }
      ]
    },
    {
      "cell_type": "code",
      "source": [
        "csdafs"
      ],
      "metadata": {
        "id": "cScYW4duWdAQ"
      },
      "execution_count": null,
      "outputs": []
    },
    {
      "cell_type": "code",
      "source": [
        "x=5**3\n",
        "print(x)"
      ],
      "metadata": {
        "colab": {
          "base_uri": "https://localhost:8080/"
        },
        "id": "cSMd33CdVpAG",
        "outputId": "cb95cb76-5c90-4d5d-c305-8b1ec1130d5e"
      },
      "execution_count": null,
      "outputs": [
        {
          "output_type": "stream",
          "name": "stdout",
          "text": [
            "125\n"
          ]
        }
      ]
    },
    {
      "cell_type": "code",
      "source": [
        "Num=9\n",
        "if Num < 10 :\n",
        "   print(\"10 is a grater than 9\")\n",
        "\n",
        "\n",
        "Ex=59\n",
        "if Ex==59:\n",
        "    print(\"Are you understand\")"
      ],
      "metadata": {
        "colab": {
          "base_uri": "https://localhost:8080/"
        },
        "id": "DY99H9Gxw2ML",
        "outputId": "51a50fe8-3a70-4495-88a5-b631f2fefe56"
      },
      "execution_count": 15,
      "outputs": [
        {
          "output_type": "stream",
          "name": "stdout",
          "text": [
            "10 is a grater than 9\n",
            "Are you understand\n"
          ]
        }
      ]
    },
    {
      "cell_type": "code",
      "source": [
        "Num=int(input(\"Enter leap:\"))\n",
        "if Num % 4 == 0:\n",
        "  print(\"leap\")\n",
        "else:\n",
        " print(\"not leap\")\n"
      ],
      "metadata": {
        "colab": {
          "base_uri": "https://localhost:8080/"
        },
        "id": "fQxEmC_Jy9Ll",
        "outputId": "3a68439e-21c5-4902-f3b3-1d6641bdc39b"
      },
      "execution_count": 54,
      "outputs": [
        {
          "output_type": "stream",
          "name": "stdout",
          "text": [
            "Enter year:2036\n",
            "leap\n"
          ]
        }
      ]
    },
    {
      "cell_type": "code",
      "source": [
        "A=29*49\n",
        "print(A)"
      ],
      "metadata": {
        "colab": {
          "base_uri": "https://localhost:8080/"
        },
        "id": "zGxW_V5-4YZm",
        "outputId": "e4103f11-9129-4e21-ce4d-12b7b7fe5ab5"
      },
      "execution_count": 36,
      "outputs": [
        {
          "output_type": "stream",
          "name": "stdout",
          "text": [
            "1421\n"
          ]
        }
      ]
    },
    {
      "cell_type": "code",
      "source": [
        "A=2026/4\n",
        "print(A)\n"
      ],
      "metadata": {
        "colab": {
          "base_uri": "https://localhost:8080/"
        },
        "id": "bkwcMyUe52W7",
        "outputId": "f1fde7c3-6ccf-4b61-a07b-d820fd650e93"
      },
      "execution_count": 45,
      "outputs": [
        {
          "output_type": "stream",
          "name": "stdout",
          "text": [
            "506.5\n"
          ]
        }
      ]
    },
    {
      "cell_type": "code",
      "source": [
        "age=int(input(\"Enter  the age:\"))\n",
        "if age >=18 :\n",
        "  print(\"They are eligible for voting\")\n",
        "else:\n",
        "  print(\"They have to wait\")\n"
      ],
      "metadata": {
        "colab": {
          "base_uri": "https://localhost:8080/"
        },
        "id": "rwRqDKwy7aYJ",
        "outputId": "6d80fba9-d124-493d-a04b-31dc60aa5ceb"
      },
      "execution_count": 69,
      "outputs": [
        {
          "output_type": "stream",
          "name": "stdout",
          "text": [
            "Enter  the age:18\n",
            "They are eligible for voting\n"
          ]
        }
      ]
    },
    {
      "cell_type": "code",
      "source": [
        "percentage=int(input(\"Enter the percentage\"))\n",
        "if percentage>=85 :\n",
        "  print(\"Distinction\")\n",
        "elif percentage>=75:\n",
        "   print(\"first class\")\n",
        "elif percentage>=65:\n",
        "   print(\"second class\")\n",
        "else:\n",
        "\n",
        "  print(\"Fail\")\n"
      ],
      "metadata": {
        "colab": {
          "base_uri": "https://localhost:8080/"
        },
        "id": "kGCp-Bv_940i",
        "outputId": "3b356427-6601-4a4a-b5cc-edaac6b7fe22"
      },
      "execution_count": 87,
      "outputs": [
        {
          "output_type": "stream",
          "name": "stdout",
          "text": [
            "Enter the percentage65\n",
            "second class\n"
          ]
        }
      ]
    },
    {
      "cell_type": "code",
      "source": [
        "prize=int(input(\"Enter the Medel prize \"))\n",
        "if prize==1 :\n",
        "   print(\"Gold Medel\")\n",
        "elif prize==2 :\n",
        "   print(\"silver Medel\")\n",
        "elif prize==3 :\n",
        "   print(\"Bronze Medel\")\n",
        "elif prize==4:\n",
        "\n",
        "   print(\"GO to home\")"
      ],
      "metadata": {
        "colab": {
          "base_uri": "https://localhost:8080/"
        },
        "id": "ASnkiiJaFfVU",
        "outputId": "783d5e2b-f9d3-4b8d-ac8a-2653e16be033"
      },
      "execution_count": 100,
      "outputs": [
        {
          "output_type": "stream",
          "name": "stdout",
          "text": [
            "Enter the Medel prize 4\n",
            "GO to home\n"
          ]
        }
      ]
    },
    {
      "cell_type": "code",
      "source": [
        "Signal=input(\"Enter the Light\")\n",
        "if   Signal==\"Red \":\n",
        "  print(\"Stop vehicles\")\n",
        "elif Signal==\"Yellow\":\n",
        "  print(\"Ready to go\")\n",
        "elif Signal==\"Green\":\n",
        "  print(\"you can go now\")\n",
        "else:\n",
        "  print(\"Wrong colour\")\n",
        "\n"
      ],
      "metadata": {
        "colab": {
          "base_uri": "https://localhost:8080/"
        },
        "id": "QNj0gV5NG7p9",
        "outputId": "386aadd8-1f80-4c35-d0a5-5efab2425170"
      },
      "execution_count": 109,
      "outputs": [
        {
          "output_type": "stream",
          "name": "stdout",
          "text": [
            "Enter the LightYellow\n",
            "Ready to go\n"
          ]
        }
      ]
    },
    {
      "cell_type": "code",
      "source": [],
      "metadata": {
        "id": "0mn4itEyJF7c"
      },
      "execution_count": 101,
      "outputs": []
    }
  ]
}