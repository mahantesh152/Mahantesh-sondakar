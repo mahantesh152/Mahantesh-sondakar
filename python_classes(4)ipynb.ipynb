{
  "nbformat": 4,
  "nbformat_minor": 0,
  "metadata": {
    "colab": {
      "provenance": []
    },
    "kernelspec": {
      "name": "python3",
      "display_name": "Python 3"
    },
    "language_info": {
      "name": "python"
    }
  },
  "cells": [
    {
      "cell_type": "code",
      "source": [
        "num=7\n",
        "for i in range (0,num):\n",
        "    for j in range(0,num-i-1):\n",
        "        print(\" \",end=\" \")\n",
        "    for j in range(0, i*2+1):\n",
        "        print(\"@\" , end=\" \")\n",
        "    print()"
      ],
      "metadata": {
        "colab": {
          "base_uri": "https://localhost:8080/"
        },
        "id": "TS5OANcu9eDj",
        "outputId": "e6dbb9f2-2680-4be7-988d-a26435c137ed"
      },
      "execution_count": 80,
      "outputs": [
        {
          "output_type": "stream",
          "name": "stdout",
          "text": [
            "            @ \n",
            "          @ @ @ \n",
            "        @ @ @ @ @ \n",
            "      @ @ @ @ @ @ @ \n",
            "    @ @ @ @ @ @ @ @ @ \n",
            "  @ @ @ @ @ @ @ @ @ @ @ \n",
            "@ @ @ @ @ @ @ @ @ @ @ @ @ \n"
          ]
        }
      ]
    },
    {
      "cell_type": "code",
      "source": [
        "num=7\n",
        "for i in range (0,num):\n",
        "    for j in range(0,num-i-1):\n",
        "        print(\" \",end=\" \")\n",
        "    for j in range(0, i*2+1):\n",
        "        print(\"@\" , end=\" \")\n",
        "    print()\n",
        "for i in range (0,num):\n",
        "    for j in range (0,i) :\n",
        "        print(\" \",end=\" \")\n",
        "    for j in range(0,(num-i)*2-1):\n",
        "        print(\"@\",end=\" \")\n",
        "    print()\n"
      ],
      "metadata": {
        "colab": {
          "base_uri": "https://localhost:8080/"
        },
        "id": "DAh9282bt64n",
        "outputId": "f44d4d66-b007-465f-df92-0f82a0a030c0"
      },
      "execution_count": 60,
      "outputs": [
        {
          "output_type": "stream",
          "name": "stdout",
          "text": [
            "            @ \n",
            "          @ @ @ \n",
            "        @ @ @ @ @ \n",
            "      @ @ @ @ @ @ @ \n",
            "    @ @ @ @ @ @ @ @ @ \n",
            "  @ @ @ @ @ @ @ @ @ @ @ \n",
            "@ @ @ @ @ @ @ @ @ @ @ @ @ \n",
            "@ @ @ @ @ @ @ @ @ @ @ @ @ \n",
            "  @ @ @ @ @ @ @ @ @ @ @ \n",
            "    @ @ @ @ @ @ @ @ @ \n",
            "      @ @ @ @ @ @ @ \n",
            "        @ @ @ @ @ \n",
            "          @ @ @ \n",
            "            @ \n"
          ]
        }
      ]
    },
    {
      "cell_type": "code",
      "source": [
        "def fun(num):\n",
        "     return num*num\n",
        "print(fun(4))\n",
        "\n",
        "def add(a,b):\n",
        "    print(f'Addition of two numbers is {a+b}')\n",
        "add(5,10)\n"
      ],
      "metadata": {
        "colab": {
          "base_uri": "https://localhost:8080/"
        },
        "id": "Zm7LVHENwFfA",
        "outputId": "16538c44-caa6-4ab8-a095-2546c6821a25"
      },
      "execution_count": 79,
      "outputs": [
        {
          "output_type": "stream",
          "name": "stdout",
          "text": [
            "16\n",
            "Addition of two numbers is 15\n"
          ]
        }
      ]
    }
  ]
}